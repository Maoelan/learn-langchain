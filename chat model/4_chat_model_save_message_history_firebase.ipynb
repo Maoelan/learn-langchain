{
 "cells": [
  {
   "cell_type": "code",
   "execution_count": 1,
   "id": "2832c777",
   "metadata": {},
   "outputs": [],
   "source": [
    "from dotenv import load_dotenv\n",
    "from google.cloud import firestore\n",
    "from langchain_google_firestore import FirestoreChatMessageHistory\n",
    "from langchain_openai import ChatOpenAI"
   ]
  },
  {
   "cell_type": "code",
   "execution_count": 3,
   "id": "815fb073",
   "metadata": {},
   "outputs": [
    {
     "data": {
      "text/plain": [
       "True"
      ]
     },
     "execution_count": 3,
     "metadata": {},
     "output_type": "execute_result"
    }
   ],
   "source": [
    "load_dotenv()"
   ]
  },
  {
   "cell_type": "code",
   "execution_count": 4,
   "id": "eb3cae70",
   "metadata": {},
   "outputs": [],
   "source": [
    "PROJECT_ID = \"learning-langchain-672cf\"\n",
    "SESSION_ID = \"user_session_new\"\n",
    "COLLECTION_NAME = \"chat_history\""
   ]
  },
  {
   "cell_type": "code",
   "execution_count": 5,
   "id": "dfb5b331",
   "metadata": {},
   "outputs": [
    {
     "name": "stdout",
     "output_type": "stream",
     "text": [
      "Menginisialisasikan Firestore Client...\n",
      "Menginisialisasikan Firestore Riwayat Chat\n",
      "Riwayat Chat Diinisialisasikan\n",
      "Riwayat Chat Saat ini: [HumanMessage(content='Apa kegunaan mouse? jawab singkat aja'), AIMessage(content='Mouse digunakan sebagai perangkat input komputer untuk menggerakkan kursor, memilih, dan berinteraksi dengan elemen di layar.'), HumanMessage(content='Kalau keyboard?'), AIMessage(content='Keyboard digunakan sebagai perangkat input untuk mengetik teks, memasukkan perintah, dan mengontrol fungsi komputer.')]\n"
     ]
    }
   ],
   "source": [
    "print(\"Menginisialisasikan Firestore Client...\")\n",
    "client = firestore.Client(project=PROJECT_ID)\n",
    "\n",
    "print(\"Menginisialisasikan Firestore Riwayat Chat\")\n",
    "chat_history = FirestoreChatMessageHistory(\n",
    "    session_id=SESSION_ID,\n",
    "    collection=COLLECTION_NAME,\n",
    "    client=client,\n",
    ")\n",
    "\n",
    "print(\"Riwayat Chat Diinisialisasikan\")\n",
    "print(\"Riwayat Chat Saat ini:\", chat_history.messages)"
   ]
  },
  {
   "cell_type": "code",
   "execution_count": 6,
   "id": "6186fd89",
   "metadata": {},
   "outputs": [],
   "source": [
    "model = ChatOpenAI(model=\"gpt-4o-mini\")"
   ]
  },
  {
   "cell_type": "code",
   "execution_count": 7,
   "id": "e3cef432",
   "metadata": {},
   "outputs": [
    {
     "name": "stdout",
     "output_type": "stream",
     "text": [
      "Memulai chatting dengan AI. Ketik 'exit' untuk keluar\n",
      "AI: Nasi Padang adalah hidangan khas dari Sumatera Barat, Indonesia, yang terdiri dari nasi putih disajikan dengan berbagai lauk-pauk seperti rendang, ayam pop, dan sambal, biasanya disajikan dalam sistem prasmanan.\n",
      "AI: Banyak orang menganggap nasi Padang sangat enak karena rasa bumbunya yang kaya dan variatif.\n"
     ]
    }
   ],
   "source": [
    "print(\"Memulai chatting dengan AI. Ketik 'exit' untuk keluar\")\n",
    "\n",
    "while True:\n",
    "    human_input = input(\"User: \")\n",
    "    if human_input.lower() == 'exit':\n",
    "        break\n",
    "\n",
    "    chat_history.add_user_message(human_input)\n",
    "\n",
    "    ai_response = model.invoke(chat_history.messages)\n",
    "    chat_history.add_ai_message(ai_response.content) #type: ignore\n",
    "\n",
    "    print(f\"AI: {ai_response.content}\")"
   ]
  },
  {
   "cell_type": "code",
   "execution_count": null,
   "id": "1aabff3d",
   "metadata": {},
   "outputs": [],
   "source": []
  }
 ],
 "metadata": {
  "kernelspec": {
   "display_name": "langchain-crash-course-Pybqe2aH-py3.10",
   "language": "python",
   "name": "python3"
  },
  "language_info": {
   "codemirror_mode": {
    "name": "ipython",
    "version": 3
   },
   "file_extension": ".py",
   "mimetype": "text/x-python",
   "name": "python",
   "nbconvert_exporter": "python",
   "pygments_lexer": "ipython3",
   "version": "3.10.0"
  }
 },
 "nbformat": 4,
 "nbformat_minor": 5
}
