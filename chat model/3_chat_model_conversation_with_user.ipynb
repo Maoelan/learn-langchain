{
 "cells": [
  {
   "cell_type": "code",
   "execution_count": 1,
   "id": "30e80482",
   "metadata": {},
   "outputs": [],
   "source": [
    "from dotenv import load_dotenv\n",
    "from langchain_openai import ChatOpenAI\n",
    "from langchain.schema import AIMessage, HumanMessage, SystemMessage"
   ]
  },
  {
   "cell_type": "code",
   "execution_count": 2,
   "id": "f7798de2",
   "metadata": {},
   "outputs": [
    {
     "data": {
      "text/plain": [
       "True"
      ]
     },
     "execution_count": 2,
     "metadata": {},
     "output_type": "execute_result"
    }
   ],
   "source": [
    "load_dotenv()"
   ]
  },
  {
   "cell_type": "code",
   "execution_count": 3,
   "id": "d5363c35",
   "metadata": {},
   "outputs": [],
   "source": [
    "model = ChatOpenAI(model=\"gpt-4o-mini\")"
   ]
  },
  {
   "cell_type": "code",
   "execution_count": 4,
   "id": "983a0397",
   "metadata": {},
   "outputs": [],
   "source": [
    "chat_history = []\n",
    "\n",
    "system_message = SystemMessage(content=\"Kamu adalah AI asisten yang sangat membantu\")\n",
    "chat_history.append(system_message)"
   ]
  },
  {
   "cell_type": "code",
   "execution_count": 5,
   "id": "c9f036ec",
   "metadata": {},
   "outputs": [
    {
     "name": "stdout",
     "output_type": "stream",
     "text": [
      "AI: 1000.\n",
      "AI: Keyboard digunakan untuk memasukkan data, mengetik teks, dan mengontrol perangkat komputer.\n",
      "AI: Luangkan waktu untuk bernapas dalam-dalam dan tenangkan pikiran sebelum merespons situasi emosional.\n",
      "---- Riwayat Chat ----\n",
      "[SystemMessage(content='Kamu adalah AI asisten yang sangat membantu'), HumanMessage(content='Berapa 100 dikali 10, jawab singkat saja'), AIMessage(content='1000.'), HumanMessage(content='Oke bagus, sekarang kegunaan keyboard apa? jawab singkat aja'), AIMessage(content='Keyboard digunakan untuk memasukkan data, mengetik teks, dan mengontrol perangkat komputer.'), HumanMessage(content='Siip, berikan satu tips cara mengelola emosi? jawab singkat saja'), AIMessage(content='Luangkan waktu untuk bernapas dalam-dalam dan tenangkan pikiran sebelum merespons situasi emosional.')]\n"
     ]
    }
   ],
   "source": [
    "while True:\n",
    "    query = input(\"You: \")\n",
    "    if query.lower() == \"exit\":\n",
    "        break\n",
    "    chat_history.append(HumanMessage(content=query))\n",
    "\n",
    "    result = model.invoke(chat_history)\n",
    "    response = result.content\n",
    "    chat_history.append(AIMessage(content=response))\n",
    "\n",
    "    print(f\"AI: {response}\")\n",
    "\n",
    "print(\"---- Riwayat Chat ----\")\n",
    "print(chat_history)"
   ]
  },
  {
   "cell_type": "code",
   "execution_count": null,
   "id": "187b0c2c",
   "metadata": {},
   "outputs": [],
   "source": []
  }
 ],
 "metadata": {
  "kernelspec": {
   "display_name": "langchain-crash-course-Pybqe2aH-py3.10",
   "language": "python",
   "name": "python3"
  },
  "language_info": {
   "codemirror_mode": {
    "name": "ipython",
    "version": 3
   },
   "file_extension": ".py",
   "mimetype": "text/x-python",
   "name": "python",
   "nbconvert_exporter": "python",
   "pygments_lexer": "ipython3",
   "version": "3.10.0"
  }
 },
 "nbformat": 4,
 "nbformat_minor": 5
}
